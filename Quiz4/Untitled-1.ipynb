{
 "cells": [
  {
   "cell_type": "markdown",
   "id": "6c46e155",
   "metadata": {},
   "source": [
    "# Import Required Libraries\n",
    "Import pandas as pd."
   ]
  },
  {
   "cell_type": "code",
   "execution_count": null,
   "id": "917234e9",
   "metadata": {},
   "outputs": [],
   "source": [
    "# Import Required Libraries\n",
    "import pandas as pd"
   ]
  },
  {
   "cell_type": "markdown",
   "id": "c1dd6add",
   "metadata": {},
   "source": [
    "# Load the Dataset\n",
    "Use `pd.read_csv()` to load the 'currencies.csv' dataset."
   ]
  },
  {
   "cell_type": "code",
   "execution_count": null,
   "id": "ae49d349",
   "metadata": {},
   "outputs": [],
   "source": [
    "# Load the Dataset\n",
    "currencies = pd.read_csv(\"data_raw/currencies.csv\")"
   ]
  },
  {
   "cell_type": "markdown",
   "id": "38d699a9",
   "metadata": {},
   "source": [
    "# Parse the \"date_string\" Column\n",
    "Use `pd.to_datetime()` to parse the 'date_string' column, setting the 'format' option with wildcards."
   ]
  },
  {
   "cell_type": "code",
   "execution_count": null,
   "id": "e7a87398",
   "metadata": {},
   "outputs": [],
   "source": [
    "# Parse the \"date_string\" Column\n",
    "currencies['date'] = pd.to_datetime(currencies['date_string'], format=\"%Y-%m-%d\")"
   ]
  }
 ],
 "metadata": {
  "language_info": {
   "name": "python"
  }
 },
 "nbformat": 4,
 "nbformat_minor": 5
}
