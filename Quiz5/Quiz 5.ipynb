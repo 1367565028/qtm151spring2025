{
 "cells": [
  {
   "cell_type": "markdown",
   "metadata": {},
   "source": [
    "# Quiz 4"
   ]
  },
  {
   "attachments": {},
   "cell_type": "markdown",
   "metadata": {},
   "source": [
    "## Try to submit as an HTML file"
   ]
  },
  {
   "attachments": {},
   "cell_type": "markdown",
   "metadata": {},
   "source": [
    "<font size = \"5\">\n",
    "Print your name below"
   ]
  },
  {
   "cell_type": "code",
   "execution_count": 39,
   "metadata": {},
   "outputs": [
    {
     "name": "stdout",
     "output_type": "stream",
     "text": [
      "Michael Zhao\n"
     ]
    }
   ],
   "source": [
    "# Write your answer here:\n",
    "print(\"Michael Zhao\") "
   ]
  },
  {
   "cell_type": "markdown",
   "metadata": {},
   "source": [
    "<font size = \"5\" >\n",
    "This quiz is open book \n",
    "\n",
    "- You can use the lecture notes\n",
    "- You will get partial credit for attempting the questions\n",
    "- To get full credit, the code should run as intended\n",
    "- You should <span style=\"color:red\"> NOT </span> communicate with other students\n",
    "\n",
    "Write the following message as a comment: <br>\n",
    "\n",
    "\"I will abide by Emory's code of conduct\"\n"
   ]
  },
  {
   "cell_type": "code",
   "execution_count": 40,
   "metadata": {},
   "outputs": [],
   "source": [
    "# Write your own code\n",
    "#I will a abide by Emory's code of conduct"
   ]
  },
  {
   "cell_type": "code",
   "execution_count": 41,
   "metadata": {},
   "outputs": [],
   "source": [
    "# Write your answer here:\n",
    "\n",
    "import pandas as pd\n",
    "from sqlalchemy import create_engine\n",
    "from sqlalchemy.engine import URL\n",
    "from sqlalchemy import text\n"
   ]
  },
  {
   "attachments": {},
   "cell_type": "markdown",
   "metadata": {},
   "source": [
    "<font size = \"5\">\n",
    "\n",
    "Establish a connection to the SQL server and database ```postgres``` <br>\n",
    "from Python as done in  class  using <br>\n",
    "```URL()``` and ```create_engine()```<br>\n",
    "As we are are in the default database, <br>\n",
    "you can leave out the database argument.\n",
    "\n",
    "Note: You may have to change some of the login details <br>\n",
    "depending on your computer"
   ]
  },
  {
   "cell_type": "code",
   "execution_count": 42,
   "metadata": {},
   "outputs": [],
   "source": [
    "# Write your answer here:\n",
    "\n",
    "url_server = URL.create(\n",
    "    \"postgresql\",\n",
    "    host = 'localhost',\n",
    "    username = 'postgres',\n",
    "    port = 5432,\n",
    "    password  = '12345')\n",
    "connection = create_engine(url_server)\n"
   ]
  },
  {
   "attachments": {},
   "cell_type": "markdown",
   "metadata": {},
   "source": [
    "\n",
    "<font size = \"5\">\n",
    "\n",
    "(a) Upload dataset to SQL\n",
    "\n",
    "\n",
    "<font size = \"3\">\n",
    "\n",
    "- Read the files ```brand_info.csv``` and ```cars.csv``` in the ```data_raw``` folder\n",
    "- Upload both files to your local SQL server using the <br>\n",
    "\"to_sql\" command. Call the new datasets ```brand_info``` and ```cars```, respectively <br>\n",
    " in the server"
   ]
  },
  {
   "cell_type": "code",
   "execution_count": 43,
   "metadata": {},
   "outputs": [
    {
     "data": {
      "text/plain": [
       "74"
      ]
     },
     "execution_count": 43,
     "metadata": {},
     "output_type": "execute_result"
    }
   ],
   "source": [
    "# Write your answer here:\n",
    "brand  = pd.read_csv(\"data_raw/brand_info.csv\")\n",
    "cars    = pd.read_csv(\"data_raw/cars.csv\")\n",
    "brand.to_sql('brand',\n",
    "               con = connection,\n",
    "               if_exists='replace',\n",
    "               index=False)\n",
    "cars.to_sql('cars',\n",
    "               con = connection,\n",
    "               if_exists='replace',\n",
    "               index=False)\n"
   ]
  },
  {
   "cell_type": "markdown",
   "metadata": {},
   "source": [
    "\n",
    "<font size = \"5\">\n",
    "\n",
    "For questions (b)-(f) we will be working with the tables <br>\n",
    "``` cars ``` and ``` brands ``` in the SQL server. You are required to use <br>\n",
    "the ```read_sql``` command for all the following questions."
   ]
  },
  {
   "cell_type": "markdown",
   "metadata": {},
   "source": [
    "\n",
    "<font size = \"5\">\n",
    "\n",
    "(b) Subset and sort\n",
    "\n",
    "<font size = \"3\">\n",
    "\n",
    "Run a query using ```pd.read_sql()```\n",
    "\n",
    "- Use ```WHERE``` to get a subset of \"cars\" to subset <br>\n",
    "cars whose brand is ```'Honda'```\n",
    "- Chain this with ```ORDER BY price ASC``` to sort in <br>\n",
    "ascending order <br>\n",
    "\n",
    "HINTS:\n",
    "- Remember to include a  ```\\```  to be able to define strings over multiple lines\n",
    "- We can include single quotations in the WHERE command without any <br>\n",
    "additional escape characters"
   ]
  },
  {
   "cell_type": "code",
   "execution_count": 44,
   "metadata": {},
   "outputs": [],
   "source": [
    "# Write your answer here:\n",
    "example1 = pd.read_sql(text(\"SELECT * \\\n",
    "                             FROM cars \\\n",
    "                             WHERE brand = 'Honda' \\\n",
    "                             ORDER BY price ASC;\"), connection)\n",
    "\n"
   ]
  },
  {
   "attachments": {},
   "cell_type": "markdown",
   "metadata": {},
   "source": [
    "<font size = \"5\">\n",
    "\n",
    "(c) Groupby + Aggregate + Sort\n",
    "\n",
    "<font size = \"3\">\n",
    "\n",
    "Run a query using ```pd.read_sql()```\n",
    "\n",
    "- From ```cars```, obtain the average of \"weight\" by \"brand\" using ```GROUP BY```\n",
    "- Use ```ORDER BY ``` to sort by the average of \"weight\"\n",
    "- You can break down your code into separate lines with a ```\\``` <br>\n",
    "to make it easy to read.\n"
   ]
  },
  {
   "cell_type": "code",
   "execution_count": 61,
   "metadata": {},
   "outputs": [],
   "source": [
    "# Write your answer here:\n",
    "example2 = pd.read_sql(text(\"SELECT brand, \\\n",
    "                             AVG(weight) AS avg_weight \\\n",
    "                             FROM cars \\\n",
    "                             GROUP BY brand \\\n",
    "                             ORDER BY avg_weight DESC;\"), connection)\n",
    "\n"
   ]
  },
  {
   "attachments": {},
   "cell_type": "markdown",
   "metadata": {},
   "source": [
    "<font size = \"5\">\n",
    "\n",
    "(d) Groupby + Aggregate + Sort\n",
    "\n",
    "<font size = \"3\">\n",
    "\n",
    "Run a query using ```pd.read_sql()```\n",
    "\n",
    "- From ```cars``` obtain the average of \"headroom\" by brand using ```GROUP BY```\n",
    "- Use ```HAVING ``` to filter brands with an <br>\n",
    "average headroom strictly higher than 3\n",
    "- You can break down your code into separate lines with a ```\\``` <br>\n",
    "to make it easy to read.\n",
    "\n",
    "HINT: Use ```HAVING AVG(headroom)``` rather than an alias <br>\n",
    "for the code to work correctly."
   ]
  },
  {
   "cell_type": "code",
   "execution_count": null,
   "metadata": {},
   "outputs": [],
   "source": [
    "# Write your answer here:\n",
    "example3 = pd.read_sql(text(\"SELECT brand, AVG(headroom) AS avg_headroom \\\n",
    "                             FROM cars \\\n",
    "                             GROUP BY brand \\\n",
    "                             HAVING AVG(headroom) > 3;\"), connection)\n",
    "\n"
   ]
  },
  {
   "attachments": {},
   "cell_type": "markdown",
   "metadata": {},
   "source": [
    "<font size = \"5\">\n",
    "\n",
    "(e) Groupby and multiple aggregations\n",
    "\n",
    "<font size = \"3\">\n",
    "\n",
    "Run a query using ```pd.read_sql()```\n",
    "\n",
    "-  From ```cars```, obtain the average, min, and max of each brand's weight using ```GROUP BY```\n",
    "- You can break down your code into separate lines with a ```\\``` <br>\n",
    "to make it easy to read."
   ]
  },
  {
   "cell_type": "code",
   "execution_count": null,
   "metadata": {},
   "outputs": [],
   "source": [
    "# Write your answer here:\n",
    "example4 = pd.read_sql(text(\"SELECT brand, \\\n",
    "                             AVG(weight) AS avg_weight, \\\n",
    "                             MIN(weight) AS min_weight, \\\n",
    "                             MAX(weight) AS max_weight \\\n",
    "                             FROM cars \\\n",
    "                             GROUP BY brand;\"), connection)\n",
    "\n",
    "\n"
   ]
  },
  {
   "cell_type": "markdown",
   "metadata": {},
   "source": [
    "<font size = \"5\">\n",
    "\n",
    "(f) Filter then Aggregate\n",
    "\n",
    "<font size = \"3\">\n",
    "\n",
    "\n",
    "Run a query using ```pd.read_sql()```\n",
    "\n",
    "- From ```cars```, filter cars that are from the brand 'Audi' using WHERE\n",
    "- Obtain the average of headroom (you should only be reporting one number)\n",
    "- You can break down your code into separate lines with a ```\\``` <br>\n",
    "to make it easy to read.\n",
    "\n",
    "HINT: Use single quotations inside ```text(\"      \")``` to <br>\n",
    "filter by ```'Audi'```"
   ]
  },
  {
   "cell_type": "code",
   "execution_count": 62,
   "metadata": {},
   "outputs": [],
   "source": [
    "# Write your answer here:\n",
    "example5 = pd.read_sql(text(\"SELECT AVG(headroom) AS avg_headroom \\\n",
    "                             FROM cars \\\n",
    "                             WHERE brand = 'Audi';\"), connection)"
   ]
  }
 ],
 "metadata": {
  "kernelspec": {
   "display_name": "base",
   "language": "python",
   "name": "python3"
  },
  "language_info": {
   "codemirror_mode": {
    "name": "ipython",
    "version": 3
   },
   "file_extension": ".py",
   "mimetype": "text/x-python",
   "name": "python",
   "nbconvert_exporter": "python",
   "pygments_lexer": "ipython3",
   "version": "3.12.7"
  },
  "orig_nbformat": 4,
  "vscode": {
   "interpreter": {
    "hash": "45fc1f684f6f416f40889115beff3ddf69879b64cf4bfee48cb72a61e9d15d1a"
   }
  }
 },
 "nbformat": 4,
 "nbformat_minor": 2
}
